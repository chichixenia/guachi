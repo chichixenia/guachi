{
 "cells": [
  {
   "cell_type": "code",
   "execution_count": 18,
   "metadata": {},
   "outputs": [
    {
     "name": "stdout",
     "output_type": "stream",
     "text": [
      "100\n",
      "NO\n"
     ]
    }
   ],
   "source": [
    "#判斷輸入的數是否為質數\n",
    "number = int(input())\n",
    "first=0\n",
    "for i in range(1,number):\n",
    "    if number % i == 0:\n",
    "        first += 1\n",
    "if first == 1:\n",
    "    print(\"YES!\")\n",
    "else:\n",
    "    print(\"NO\")\n",
    "#如果是質數:\"YES\"\n",
    "#如果不是質數:\"NO\""
   ]
  },
  {
   "cell_type": "code",
   "execution_count": null,
   "metadata": {},
   "outputs": [],
   "source": []
  }
 ],
 "metadata": {
  "kernelspec": {
   "display_name": "Python 3",
   "language": "python",
   "name": "python3"
  },
  "language_info": {
   "codemirror_mode": {
    "name": "ipython",
    "version": 3
   },
   "file_extension": ".py",
   "mimetype": "text/x-python",
   "name": "python",
   "nbconvert_exporter": "python",
   "pygments_lexer": "ipython3",
   "version": "3.7.4"
  }
 },
 "nbformat": 4,
 "nbformat_minor": 2
}
