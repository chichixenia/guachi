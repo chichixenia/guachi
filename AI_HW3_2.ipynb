{
 "cells": [
  {
   "cell_type": "code",
   "execution_count": 5,
   "metadata": {},
   "outputs": [
    {
     "name": "stdout",
     "output_type": "stream",
     "text": [
      "請輸入成績:89.9\n",
      "89.9\n",
      "Your GPA is 4.0, and grade is A\n"
     ]
    }
   ],
   "source": [
    "#政大成績與GPA換算\n",
    "score = float(input(\"請輸入成績:\"))\n",
    "print(score)\n",
    "if score >= 90:\n",
    "    print(\"Your GPA is 4.3, and grade is A+\")\n",
    "elif score >= 85:\n",
    "    print(\"Your GPA is 4.0, and grade is A\")\n",
    "elif score >= 80:\n",
    "    print(\"Your GPA is 3.7, and grade is A-\")\n",
    "elif score >= 77:\n",
    "    print(\"Your GPA is 3.3, and grade is B+\")\n",
    "elif score >= 73:\n",
    "    print(\"Your GPA is 3.0, and grade is B\")\n",
    "elif score >= 70:\n",
    "    print(\"Your GPA is 2.7, and grade is B-\")\n",
    "elif score >= 67:\n",
    "    print(\"Your GPA is 2.3, and grade is C+\")\n",
    "elif score >= 63:\n",
    "    print(\"Your GPA is 2.0, and grade is C\")\n",
    "elif score >= 60:\n",
    "    print(\"Your GPA is 1.7, and grade is C-\")\n",
    "elif score >= 50:\n",
    "    print(\"Your GPA is 1.0, and grade is D\")\n",
    "elif score >= 1:\n",
    "    print(\"Your GPA is 0.0, and grade is E\")\n",
    "else:\n",
    "    print(\"Your GPA is 0.0, and grade is X\")"
   ]
  },
  {
   "cell_type": "code",
   "execution_count": null,
   "metadata": {},
   "outputs": [],
   "source": []
  }
 ],
 "metadata": {
  "kernelspec": {
   "display_name": "Python 3",
   "language": "python",
   "name": "python3"
  },
  "language_info": {
   "codemirror_mode": {
    "name": "ipython",
    "version": 3
   },
   "file_extension": ".py",
   "mimetype": "text/x-python",
   "name": "python",
   "nbconvert_exporter": "python",
   "pygments_lexer": "ipython3",
   "version": "3.7.4"
  }
 },
 "nbformat": 4,
 "nbformat_minor": 2
}
