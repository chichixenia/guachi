{
 "cells": [
  {
   "cell_type": "code",
   "execution_count": 1,
   "metadata": {},
   "outputs": [
    {
     "name": "stdout",
     "output_type": "stream",
     "text": [
      "cash\n",
      "98798740\n",
      "98798745\n",
      "       cash        \n",
      "-------------------\n",
      " 98798740| 98798745\n",
      "         |Bal.    5\n"
     ]
    }
   ],
   "source": [
    "# T字帳\n",
    "title=input()\n",
    "debit=int(input())\n",
    "credit=int(input())\n",
    "print(\"{:^19}\".format(title))\n",
    "print('-------------------')\n",
    "print(\"{:9d}|{:9d}\".format(debit,credit))\n",
    "if credit>debit:\n",
    "    print(\"{:>14}{:5d}\".format('|Bal.',credit-debit))\n",
    "if credit<debit:\n",
    "    print(\"{:<5}{:4d}|\".format('Bal.',debit-credit))\n",
    "if credit==debit:\n",
    "    print(\"{:<5}{:4d}|\".format('Bal.',credit-debit))"
   ]
  }
 ],
 "metadata": {
  "kernelspec": {
   "display_name": "Python 3",
   "language": "python",
   "name": "python3"
  },
  "language_info": {
   "codemirror_mode": {
    "name": "ipython",
    "version": 3
   },
   "file_extension": ".py",
   "mimetype": "text/x-python",
   "name": "python",
   "nbconvert_exporter": "python",
   "pygments_lexer": "ipython3",
   "version": "3.7.4"
  }
 },
 "nbformat": 4,
 "nbformat_minor": 2
}
